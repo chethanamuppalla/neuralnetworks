{
  "nbformat": 4,
  "nbformat_minor": 0,
  "metadata": {
    "colab": {
      "name": "neural network",
      "provenance": [],
      "collapsed_sections": [],
      "authorship_tag": "ABX9TyNunLNjrQZhtAyBHladkwc4",
      "include_colab_link": true
    },
    "kernelspec": {
      "name": "python3",
      "display_name": "Python 3"
    }
  },
  "cells": [
    {
      "cell_type": "markdown",
      "metadata": {
        "id": "view-in-github",
        "colab_type": "text"
      },
      "source": [
        "<a href=\"https://colab.research.google.com/github/chethanamuppalla/neuralnetworks/blob/main/neural_network.ipynb\" target=\"_parent\"><img src=\"https://colab.research.google.com/assets/colab-badge.svg\" alt=\"Open In Colab\"/></a>"
      ]
    },
    {
      "cell_type": "code",
      "metadata": {
        "id": "-dWFqb9HxMw4"
      },
      "source": [
        "import pandas as pd\n",
        "from sklearn import neural_network "
      ],
      "execution_count": null,
      "outputs": []
    },
    {
      "cell_type": "code",
      "metadata": {
        "id": "Bn9q6eXUxuLc",
        "colab": {
          "base_uri": "https://localhost:8080/",
          "height": 200
        },
        "outputId": "11ec000c-c5a3-49af-8c6e-9693db12a228"
      },
      "source": [
        "data=pd.read_csv('/content/marks.csv')\n",
        "print(data)"
      ],
      "execution_count": null,
      "outputs": [
        {
          "output_type": "stream",
          "text": [
            "   id  total  P/F?\n",
            "0   1     91     1\n",
            "1   2     85     1\n",
            "2   3     30     0\n",
            "3   4     12     0\n",
            "4   5     68     1\n",
            "5   6     72     1\n",
            "6   7     40     1\n",
            "7   8     35     0\n",
            "8   9     99     1\n",
            "9  10     89     1\n"
          ],
          "name": "stdout"
        }
      ]
    },
    {
      "cell_type": "code",
      "metadata": {
        "id": "6_5XtfVByzSK"
      },
      "source": [
        "x = pd.DataFrame(data['total'])\n",
        "y = pd.DataFrame(data['P/F?'])"
      ],
      "execution_count": null,
      "outputs": []
    },
    {
      "cell_type": "code",
      "metadata": {
        "id": "VmLtA-62zT5k",
        "colab": {
          "base_uri": "https://localhost:8080/",
          "height": 237
        },
        "outputId": "31301222-fdd2-4ad1-cef4-19e835f52122"
      },
      "source": [
        "mpl=neural_network.MLPClassifier(hidden_layer_sizes=(5,5),max_iter=30)\n",
        "mpl.fit(x,y)"
      ],
      "execution_count": null,
      "outputs": [
        {
          "output_type": "stream",
          "text": [
            "/usr/local/lib/python3.6/dist-packages/sklearn/neural_network/_multilayer_perceptron.py:934: DataConversionWarning: A column-vector y was passed when a 1d array was expected. Please change the shape of y to (n_samples, ), for example using ravel().\n",
            "  y = column_or_1d(y, warn=True)\n",
            "/usr/local/lib/python3.6/dist-packages/sklearn/neural_network/_multilayer_perceptron.py:571: ConvergenceWarning: Stochastic Optimizer: Maximum iterations (30) reached and the optimization hasn't converged yet.\n",
            "  % self.max_iter, ConvergenceWarning)\n"
          ],
          "name": "stderr"
        },
        {
          "output_type": "execute_result",
          "data": {
            "text/plain": [
              "MLPClassifier(activation='relu', alpha=0.0001, batch_size='auto', beta_1=0.9,\n",
              "              beta_2=0.999, early_stopping=False, epsilon=1e-08,\n",
              "              hidden_layer_sizes=(5, 5), learning_rate='constant',\n",
              "              learning_rate_init=0.001, max_fun=15000, max_iter=30,\n",
              "              momentum=0.9, n_iter_no_change=10, nesterovs_momentum=True,\n",
              "              power_t=0.5, random_state=None, shuffle=True, solver='adam',\n",
              "              tol=0.0001, validation_fraction=0.1, verbose=False,\n",
              "              warm_start=False)"
            ]
          },
          "metadata": {
            "tags": []
          },
          "execution_count": 63
        }
      ]
    },
    {
      "cell_type": "code",
      "metadata": {
        "id": "G09QfhYo0Tui"
      },
      "source": [
        "xtest=pd.DataFrame([65,22,36,92])\n"
      ],
      "execution_count": null,
      "outputs": []
    },
    {
      "cell_type": "code",
      "metadata": {
        "id": "gWBeHHxh0nLN",
        "colab": {
          "base_uri": "https://localhost:8080/",
          "height": 33
        },
        "outputId": "a8d59e2b-4614-4edb-b71d-e1716727b454"
      },
      "source": [
        "ypred=mpl.predict(xtest)\n",
        "ypred"
      ],
      "execution_count": null,
      "outputs": [
        {
          "output_type": "execute_result",
          "data": {
            "text/plain": [
              "array([1, 0, 1, 1])"
            ]
          },
          "metadata": {
            "tags": []
          },
          "execution_count": 65
        }
      ]
    },
    {
      "cell_type": "code",
      "metadata": {
        "id": "stj9w__s2pBs",
        "colab": {
          "base_uri": "https://localhost:8080/",
          "height": 200
        },
        "outputId": "31bf6481-7753-48cc-d80a-5c4a7fa0bd3d"
      },
      "source": [
        "mpl.coefs_"
      ],
      "execution_count": null,
      "outputs": [
        {
          "output_type": "execute_result",
          "data": {
            "text/plain": [
              "[array([[-0.93360293, -0.09156479,  0.47400439, -0.06030479,  0.9662844 ]]),\n",
              " array([[ 0.09322553,  0.53299682,  0.43178011, -0.16777268,  0.37654829],\n",
              "        [-0.41479537,  0.5879751 ,  0.64247234, -0.3695031 ,  0.29807111],\n",
              "        [ 0.32446432,  0.60149032,  0.33929565, -0.61056261,  0.04511421],\n",
              "        [-0.16794438, -0.48552541, -0.01948305, -0.09055623, -0.42198457],\n",
              "        [-0.455742  , -0.35327741,  0.22868006, -0.46681717, -0.71864546]]),\n",
              " array([[0.22234737],\n",
              "        [0.38058171],\n",
              "        [0.11977711],\n",
              "        [0.28982288],\n",
              "        [0.49871973]])]"
            ]
          },
          "metadata": {
            "tags": []
          },
          "execution_count": 66
        }
      ]
    },
    {
      "cell_type": "code",
      "metadata": {
        "id": "y0lVlFc83AxR",
        "colab": {
          "base_uri": "https://localhost:8080/",
          "height": 67
        },
        "outputId": "2d48c9f8-4e5a-468e-ba01-0a5b0cc65aaf"
      },
      "source": [
        "mpl.intercepts_"
      ],
      "execution_count": null,
      "outputs": [
        {
          "output_type": "execute_result",
          "data": {
            "text/plain": [
              "[array([ 0.29636917,  0.53460866,  0.07586363, -0.29516765,  0.01602301]),\n",
              " array([ 0.21450227,  0.4241346 , -0.51605762, -0.30058636,  0.39293175]),\n",
              " array([-1.01661214])]"
            ]
          },
          "metadata": {
            "tags": []
          },
          "execution_count": 67
        }
      ]
    },
    {
      "cell_type": "code",
      "metadata": {
        "id": "jAGxBGD-4jGm",
        "colab": {
          "base_uri": "https://localhost:8080/",
          "height": 33
        },
        "outputId": "9094f39c-09b2-4231-df54-af9aee219c13"
      },
      "source": [
        "mpl.score(xtest,ypred)"
      ],
      "execution_count": null,
      "outputs": [
        {
          "output_type": "execute_result",
          "data": {
            "text/plain": [
              "1.0"
            ]
          },
          "metadata": {
            "tags": []
          },
          "execution_count": 68
        }
      ]
    },
    {
      "cell_type": "code",
      "metadata": {
        "id": "uEjp6uKo5swR"
      },
      "source": [
        "ytest=pd.DataFrame([1,0,1,1])"
      ],
      "execution_count": null,
      "outputs": []
    },
    {
      "cell_type": "code",
      "metadata": {
        "id": "zhQ0WJ-e6LmX",
        "colab": {
          "base_uri": "https://localhost:8080/",
          "height": 50
        },
        "outputId": "357241dd-1c5b-4ff7-b7d8-c207efce6842"
      },
      "source": [
        "from sklearn.metrics import confusion_matrix\n",
        "cm=confusion_matrix(ytest,ypred)\n",
        "print(cm)"
      ],
      "execution_count": null,
      "outputs": [
        {
          "output_type": "stream",
          "text": [
            "[[1 0]\n",
            " [0 3]]\n"
          ],
          "name": "stdout"
        }
      ]
    },
    {
      "cell_type": "code",
      "metadata": {
        "id": "-LIXEvJ27EOa",
        "colab": {
          "base_uri": "https://localhost:8080/",
          "height": 33
        },
        "outputId": "c0c3b356-20e9-4e7d-e69e-86be71b8459d"
      },
      "source": [
        "accuracy=(cm[0][0]+cm[1][1])/4\n",
        "print(accuracy)"
      ],
      "execution_count": null,
      "outputs": [
        {
          "output_type": "stream",
          "text": [
            "1.0\n"
          ],
          "name": "stdout"
        }
      ]
    }
  ]
}